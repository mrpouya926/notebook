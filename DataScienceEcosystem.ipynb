{
 "cells": [
  {
   "cell_type": "markdown",
   "metadata": {},
   "source": [
    "# Data Science Tools and Ecosystem"
   ]
  },
  {
   "cell_type": "markdown",
   "metadata": {},
   "source": [
    "In this notebook, various concepts and techniques related to the field of data science are explored and explained, along with an overview of the popular tools and ecosystems used in the industry."
   ]
  },
  {
   "cell_type": "markdown",
   "metadata": {},
   "source": [
    "Objectives:\n",
    "\n",
    "- List popular languages for Data Science\n",
    "- Understand how to use Jupyter Notebooks for Data Science\n",
    "- Learn the basics of NumPy and Pandas libraries\n",
    "- Know how to manipulate and analyze data using Python\n",
    "- Visualize data using Matplotlib and Seaborn libraries"
   ]
  },
  {
   "cell_type": "markdown",
   "metadata": {},
   "source": [
    "Some of the popular languages used by data scientists are:"
   ]
  },
  {
   "cell_type": "markdown",
   "metadata": {},
   "source": [
    "1. Python - Python is a high-level, general-purpose programming language that is widely used in data science. It has a large and active community, a vast ecosystem of libraries and tools, and is known for its readability and ease of use.\n",
    "\n",
    "2. R is a language and environment for statistical computing and graphics. It is commonly used for data analysis, statistical modeling, and visualization. R has a comprehensive library of statistical and graphical techniques and is highly extensible through packages.\n",
    "\n",
    "3. Structured Query Language (SQL) is a domain-specific language used in relational database management systems (RDBMS). It is used for data manipulation, querying, and analysis, and is an essential tool for working with large datasets and databases."
   ]
  },
  {
   "cell_type": "markdown",
   "metadata": {},
   "source": [
    "Some of the commonly used libraries used by data scientists include:"
   ]
  },
  {
   "cell_type": "markdown",
   "metadata": {},
   "source": [
    "1. NumPy - NumPy is a Python library used for scientific computing and data analysis. It provides support for large, multi-dimensional arrays and matrices, as well as a wide range of mathematical functions to manipulate these arrays.\n",
    "\n",
    "2. Pandas - Pandas is a Python library used for data manipulation and analysis. It provides a powerful and flexible data structure called a DataFrame, which is similar to a spreadsheet, and enables you to easily manipulate, filter, and summarize data.\n",
    "\n",
    "3. Matplotlib - Matplotlib is a Python library used for data visualization. It provides a wide range of customizable charts and graphs, including line plots, scatter plots, bar plots, and histograms.\n",
    "\n",
    "3. Scikit-learn - Scikit-learn is a Python library used for machine learning and data mining. It provides a range of tools for data preprocessing, feature selection, model selection, and evaluation, as well as a wide range of machine learning algorithms.\n",
    "\n",
    "4. TensorFlow - TensorFlow is an open-source machine learning framework developed by Google. It provides a range of tools for building and training machine learning models, as well as tools for deploying these models in production."
   ]
  },
  {
   "cell_type": "markdown",
   "metadata": {},
   "source": [
    "| Data Scince Tools |\n",
    "| ----------------- |\n",
    "| Jupyter Notebook  |\n",
    "| Spyder            |  \n",
    "| RStudio           |"
   ]
  },
  {
   "cell_type": "markdown",
   "metadata": {},
   "source": [
    "### Below are a few examples of evaluating arithmetic expressions in Python"
   ]
  },
  {
   "cell_type": "code",
   "execution_count": 34,
   "metadata": {},
   "outputs": [
    {
     "name": "stdout",
     "output_type": "stream",
     "text": [
      "17\n"
     ]
    }
   ],
   "source": [
    "# This is a simple arithmetic expression to multiply and then add integers.\n",
    "result = (3 * 4) + 5\n",
    "\n",
    "# Print result\n",
    "print(result)"
   ]
  },
  {
   "cell_type": "code",
   "execution_count": 37,
   "metadata": {},
   "outputs": [
    {
     "name": "stdout",
     "output_type": "stream",
     "text": [
      "3.3333333333333335\n"
     ]
    }
   ],
   "source": [
    "# This will convert 200 minutes to hours by dividing by 60.\n",
    "minutes = 200\n",
    "hours = minutes / 60\n",
    "\n",
    "# Print result\n",
    "print(hours)"
   ]
  },
  {
   "cell_type": "markdown",
   "metadata": {},
   "source": [
    "## Author\n",
    "Milad Pouya"
   ]
  }
 ],
 "metadata": {
  "kernelspec": {
   "display_name": "Python 3",
   "language": "python",
   "name": "python3"
  },
  "language_info": {
   "codemirror_mode": {
    "name": "ipython",
    "version": 3
   },
   "file_extension": ".py",
   "mimetype": "text/x-python",
   "name": "python",
   "nbconvert_exporter": "python",
   "pygments_lexer": "ipython3",
   "version": "3.8.3"
  }
 },
 "nbformat": 4,
 "nbformat_minor": 4
}
